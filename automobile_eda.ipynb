{
  "nbformat": 4,
  "nbformat_minor": 0,
  "metadata": {
    "colab": {
      "name": "automobile_eda.ipynb",
      "provenance": [],
      "authorship_tag": "ABX9TyPBYSInBquPXdP53AvCLRQh",
      "include_colab_link": true
    },
    "kernelspec": {
      "name": "python3",
      "display_name": "Python 3"
    },
    "language_info": {
      "name": "python"
    }
  },
  "cells": [
    {
      "cell_type": "markdown",
      "metadata": {
        "id": "view-in-github",
        "colab_type": "text"
      },
      "source": [
        "<a href=\"https://colab.research.google.com/github/balachidam21/exploratory_data_analysis/blob/main/automobile_eda.ipynb\" target=\"_parent\"><img src=\"https://colab.research.google.com/assets/colab-badge.svg\" alt=\"Open In Colab\"/></a>"
      ]
    },
    {
      "cell_type": "markdown",
      "source": [
        "# **EXPLORATORY DATA ANALYSIS**\n",
        "\n",
        "Exploratory data analysis allows you explore and get insights about the data and formulate hypotheses about the data that could lead to experiements and new data collection.\n",
        "## Why is EDA Important?\n",
        "The importance of EDA lies in detecting any errors, outliers and understand different patterns in the data.It results in understanding the data before making any assumptions.\n",
        "\n",
        "## Parts of EDA\n",
        "There are no definite steps that should in EDA. But the EDA should cover the following parts:\n",
        "\n",
        "\n",
        "1.   Get maximum insights about the data\n",
        "2.   Uncover underlying structure\n",
        "3.   Get Important variables in the data\n",
        "4.   Detect outliers and anomalies(if any)\n",
        "5.   Test underlying assumptions\n",
        "\n",
        "\n",
        "\n",
        "\n",
        "The Automobile dataset will be used for analysis.\n",
        "\n"
      ],
      "metadata": {
        "id": "CqRmk9_VIBjH"
      }
    },
    {
      "cell_type": "code",
      "execution_count": null,
      "metadata": {
        "id": "ubMSeevyH_95"
      },
      "outputs": [],
      "source": [
        ""
      ]
    }
  ]
}